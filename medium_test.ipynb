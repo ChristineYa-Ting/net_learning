{
 "cells": [
  {
   "cell_type": "code",
   "execution_count": 13,
   "id": "4b659171",
   "metadata": {},
   "outputs": [
    {
     "name": "stdout",
     "output_type": "stream",
     "text": [
      "6179373392\n",
      "189778.36651208502\n",
      "105548.3568808909\n",
      "178356.0\n"
     ]
    }
   ],
   "source": [
    "import pandas as pd\n",
    "import numpy as np\n",
    "\n",
    "pr = pd.read_csv('Excel Data/salary.csv')\n",
    "df = pd.DataFrame(pr)\n",
    "grouped = df.groupby('Sex')['Income'].sum()\n",
    "tol = grouped.sum()\n",
    "\n",
    "#平均值\n",
    "mean = np.mean(df['Income'])\n",
    "\n",
    "#標準差\n",
    "std = np.std(df['Income'])\n",
    "\n",
    "#中位數\n",
    "med = np.median(df['Income'])\n",
    "\n",
    "print(tol)\n",
    "print(mean)\n",
    "print(std)\n",
    "print(med)"
   ]
  },
  {
   "cell_type": "code",
   "execution_count": null,
   "id": "d9dfbe93",
   "metadata": {},
   "outputs": [],
   "source": []
  }
 ],
 "metadata": {
  "kernelspec": {
   "display_name": "Python 3 (ipykernel)",
   "language": "python",
   "name": "python3"
  },
  "language_info": {
   "codemirror_mode": {
    "name": "ipython",
    "version": 3
   },
   "file_extension": ".py",
   "mimetype": "text/x-python",
   "name": "python",
   "nbconvert_exporter": "python",
   "pygments_lexer": "ipython3",
   "version": "3.11.5"
  }
 },
 "nbformat": 4,
 "nbformat_minor": 5
}
